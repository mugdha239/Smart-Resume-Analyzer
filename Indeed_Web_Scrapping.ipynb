{
 "cells": [
  {
   "cell_type": "code",
   "execution_count": 11,
   "id": "dfa677a6",
   "metadata": {},
   "outputs": [],
   "source": [
    "# Web Scrapping to find jobs listed on Indeed.com\n",
    "# Name : Manjiri Naik \n",
    "# Roll No. : 21102B0008\n",
    "# Branch : CMPN-B"
   ]
  },
  {
   "cell_type": "code",
   "execution_count": 1,
   "id": "e267ba47",
   "metadata": {},
   "outputs": [],
   "source": [
    "from selenium import webdriver\n",
    "from selenium.webdriver.common.by import By\n",
    "from selenium.webdriver.chrome.service import Service\n",
    "from webdriver_manager.chrome import ChromeDriverManager\n",
    "from bs4 import BeautifulSoup\n",
    "import time\n",
    "import pandas as pd"
   ]
  },
  {
   "cell_type": "code",
   "execution_count": 2,
   "id": "e0e76258",
   "metadata": {},
   "outputs": [],
   "source": [
    "# Set up the ChromeDriver service\n",
    "service = Service(ChromeDriverManager().install())"
   ]
  },
  {
   "cell_type": "code",
   "execution_count": 3,
   "id": "e1257641",
   "metadata": {},
   "outputs": [],
   "source": [
    "# Initialize the Chrome WebDriver\n",
    "driver = webdriver.Chrome(service=service)"
   ]
  },
  {
   "cell_type": "code",
   "execution_count": 4,
   "id": "08fd2842",
   "metadata": {},
   "outputs": [],
   "source": [
    "# Open the Indeed job search page\n",
    "driver.get(\"https://www.indeed.com/jobs?q=Software+Engineer&l=\")"
   ]
  },
  {
   "cell_type": "code",
   "execution_count": 5,
   "id": "ce2f72ee",
   "metadata": {},
   "outputs": [],
   "source": [
    "# Wait for the page to load\n",
    "time.sleep(10)  # Increase this if necessary"
   ]
  },
  {
   "cell_type": "code",
   "execution_count": 6,
   "id": "8fd7e601",
   "metadata": {},
   "outputs": [],
   "source": [
    "# Parse the page content\n",
    "soup = BeautifulSoup(driver.page_source, 'html.parser')"
   ]
  },
  {
   "cell_type": "code",
   "execution_count": 7,
   "id": "44cb453b",
   "metadata": {},
   "outputs": [
    {
     "name": "stdout",
     "output_type": "stream",
     "text": [
      "Found 15 job titles.\n",
      "Found 0 companies.\n",
      "Found 15 locations.\n"
     ]
    }
   ],
   "source": [
    "# Extract job titles\n",
    "job_titles = soup.find_all('h2', class_='jobTitle')\n",
    "print(f\"Found {len(job_titles)} job titles.\")  # Debugging print\n",
    "\n",
    "# Extract company names\n",
    "companies = soup.find_all('span', class_='companyName')\n",
    "print(f\"Found {len(companies)} companies.\")  # Debugging print\n",
    "\n",
    "# Extract locations\n",
    "locations = soup.find_all('div', class_='company_location')\n",
    "print(f\"Found {len(locations)} locations.\")  # Debugging print"
   ]
  },
  {
   "cell_type": "code",
   "execution_count": 10,
   "id": "70350a52",
   "metadata": {},
   "outputs": [
    {
     "name": "stdout",
     "output_type": "stream",
     "text": [
      "Job details saved to indeed_jobs.csv\n"
     ]
    }
   ],
   "source": [
    "# Check if lists are empty\n",
    "if not job_titles or not locations:\n",
    "    print(\"Failed to find the necessary elements. The page structure may have changed.\")\n",
    "else:\n",
    "    # Extract and print job details\n",
    "    jobs = []\n",
    "    for i in range(min(len(job_titles), len(companies), len(locations))):\n",
    "        title = job_titles[i].text.strip()\n",
    "        company = companies[i].text.strip()\n",
    "        location = locations[i].text.strip()\n",
    "        jobs.append({'Title': title, 'Company': company, 'Location': location})\n",
    "    \n",
    "    # Save the results to a CSV file\n",
    "    df = pd.DataFrame(jobs)\n",
    "    df.to_csv('indeed_jobs.csv', index=False)\n",
    "    print(\"Job details saved to indeed_jobs.csv\")\n",
    "\n",
    "# Close the browser\n",
    "driver.quit()\n"
   ]
  },
  {
   "cell_type": "code",
   "execution_count": null,
   "id": "4cabf795",
   "metadata": {},
   "outputs": [],
   "source": []
  }
 ],
 "metadata": {
  "kernelspec": {
   "display_name": "Python 3 (ipykernel)",
   "language": "python",
   "name": "python3"
  },
  "language_info": {
   "codemirror_mode": {
    "name": "ipython",
    "version": 3
   },
   "file_extension": ".py",
   "mimetype": "text/x-python",
   "name": "python",
   "nbconvert_exporter": "python",
   "pygments_lexer": "ipython3",
   "version": "3.9.12"
  }
 },
 "nbformat": 4,
 "nbformat_minor": 5
}
